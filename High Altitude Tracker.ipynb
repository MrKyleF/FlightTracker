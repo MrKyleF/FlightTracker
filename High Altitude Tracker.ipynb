{
 "cells": [
  {
   "cell_type": "code",
   "execution_count": 1,
   "metadata": {},
   "outputs": [],
   "source": [
    "from FlightRadar24.api import FlightRadar24API\n",
    "fr_api = FlightRadar24API()\n",
    "from time import sleep\n",
    "from datetime import datetime"
   ]
  },
  {
   "cell_type": "code",
   "execution_count": 2,
   "metadata": {},
   "outputs": [],
   "source": [
    "import os \n",
    "import folium\n",
    "from folium import plugins\n",
    "import rioxarray as rxr\n",
    "import earthpy as et\n",
    "import earthpy.spatial as es"
   ]
  },
  {
   "cell_type": "code",
   "execution_count": 3,
   "metadata": {},
   "outputs": [],
   "source": [
    "def checkForAltitudeInterest(flights, min_altitude=48000):\n",
    "    flights_of_interest = []\n",
    "    for flight in flights:\n",
    "        if flight.altitude >= min_altitude:\n",
    "            flights_of_interest.append(flight)\n",
    "    return flights_of_interest"
   ]
  },
  {
   "cell_type": "code",
   "execution_count": 4,
   "metadata": {},
   "outputs": [],
   "source": [
    "def plotInfo(flight, map_, count):\n",
    "    colors = ['darkred', 'red', 'lightred', 'orange', 'darkpurple', 'purple', 'pink', 'beige', 'darkblue', 'blue', 'cadetblue', 'lightblue', 'darkgreen', 'green', 'lightgreen', 'black', 'gray', 'lightgray']\n",
    "    data_string = \"\"\n",
    "    data_string += (\"Call Sign: \" + flight.callsign)\n",
    "    data_string += (\" Altitude: \" + str(flight.altitude) + \" ft\")\n",
    "    data_string += (\" Heading: \" + str(flight.heading) + \"\")\n",
    "    data_string += (\" Registration: \" + str(flight.registration))\n",
    "    if flight.aircraft_code == \"Q4\":\n",
    "        data_string += (\" Aircraft: NORTHROP GRUMMAN RQ-4 Global Hawk\")\n",
    "    else:\n",
    "        data_string +=  (\" Aircraft Code:\" + str(flight.aircraft_code))\n",
    "    folium.Marker(\n",
    "        location=[flight.latitude, flight.longitude], # coordinates for the marker (Earth Lab at CU Boulder)\n",
    "        popup=data_string, # pop-up label for the marker\n",
    "        icon=folium.Icon(color=colors[count % len(colors)],icon=\"plane\"),\n",
    "    ).add_to(map_)\n",
    "    return map_"
   ]
  },
  {
   "cell_type": "code",
   "execution_count": null,
   "metadata": {},
   "outputs": [],
   "source": [
    "flights = fr_api.get_flights()\n",
    "flights = checkForAltitudeInterest(flights)\n",
    "lat = 0\n",
    "long = 0\n",
    "for flight in flights:\n",
    "    lat = lat + flight.latitude\n",
    "    long = long + flight.longitude\n",
    "lat = lat / len(flights)\n",
    "long = long / len(flights)\n",
    "last_cordindats = [flights[-1].latitude, flights[-1].longitude]\n",
    "map_ = folium.Map(location=[lat, long], tiles = 'Stamen Terrain',zoom_start = 2)\n",
    "count = 0\n",
    "while True:\n",
    "    flights = fr_api.get_flights()\n",
    "    flights = checkForAltitudeInterest(flights)\n",
    "    \n",
    "    for flight in flights:\n",
    "        map_ = plotInfo(flight, map_, count)\n",
    "    now = datetime.now() # current date and time\n",
    "    date_time = now.strftime(\"%m-%d-%Y_%H:%M:%S\")\n",
    "    map_.save(\"/tf/Incongruity/Flight Tracking/Maps/\" + date_time + \".html\")\n",
    "    count += 1\n",
    "    sleep(30)"
   ]
  },
  {
   "cell_type": "code",
   "execution_count": null,
   "metadata": {},
   "outputs": [],
   "source": []
  },
  {
   "cell_type": "code",
   "execution_count": null,
   "metadata": {},
   "outputs": [],
   "source": []
  }
 ],
 "metadata": {
  "kernelspec": {
   "display_name": "Python 3",
   "language": "python",
   "name": "python3"
  },
  "language_info": {
   "codemirror_mode": {
    "name": "ipython",
    "version": 3
   },
   "file_extension": ".py",
   "mimetype": "text/x-python",
   "name": "python",
   "nbconvert_exporter": "python",
   "pygments_lexer": "ipython3",
   "version": "3.6.9"
  }
 },
 "nbformat": 4,
 "nbformat_minor": 2
}
